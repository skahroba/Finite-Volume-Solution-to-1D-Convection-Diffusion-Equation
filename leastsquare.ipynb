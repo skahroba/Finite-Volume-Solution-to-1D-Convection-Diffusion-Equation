{
 "cells": [
  {
   "cell_type": "code",
   "execution_count": 2,
   "metadata": {},
   "outputs": [],
   "source": [
    "import fipy\n",
    "from fipy import *\n",
    "from ConvectionDiffusionFVSolver import *\n",
    "\n",
    "import matplotlib as mpl\n",
    "import matplotlib.pyplot as plt\n",
    "import numpy as np\n",
    "\n",
    "\n",
    "######################################################################\n",
    "# Plot configurations\n",
    "# mpl.style.use('classic')\n",
    "mpl.rcParams['lines.linewidth'] = 1.0\n",
    "mpl.rcParams['lines.dashed_pattern'] = [6, 6]\n",
    "mpl.rcParams['lines.dashdot_pattern'] = [3, 5, 1, 5]\n",
    "mpl.rcParams['lines.dotted_pattern'] = [1, 3]\n",
    "mpl.rcParams['lines.scale_dashes'] = False\n",
    "\n",
    "mpl.rcParams['grid.color'] = 'k'\n",
    "mpl.rcParams['grid.linestyle'] = ':'\n",
    "mpl.rcParams['grid.linewidth'] = 0.5\n",
    "\n",
    "mpl.rcParams['axes.autolimit_mode'] = 'round_numbers'\n",
    "mpl.rcParams['axes.xmargin'] = 0\n",
    "mpl.rcParams['axes.ymargin'] = 0\n",
    "######################################################################\n",
    "%matplotlib inline"
   ]
  },
  {
   "cell_type": "code",
   "execution_count": 3,
   "metadata": {
    "collapsed": true
   },
   "outputs": [],
   "source": [
    "pv_exp=[0.06, 0.24, 0.47, 0.59, 0.71, 0.94, 1.00, 1.06, 1.12, 1.18, 1.29, 1.41, \n",
    "      1.53, 1.82, 2.24, 2.71, 2.94, 3.18];\n",
    "c_exp=[0, 0, 0, 0, 0.043839945, 0.23571823, 0.393948895, 0.579304041,\n",
    "       0.682607092, 0.789883458, 0.920350084, 0.955819637, 0.983220378, 1.001877569, 0.997183646, \n",
    "       0.997183646, 1.001877569, 1.001877569];"
   ]
  },
  {
   "cell_type": "code",
   "execution_count": 4,
   "metadata": {
    "collapsed": true
   },
   "outputs": [],
   "source": [
    "L = 1.\n",
    "nx = 1000\n",
    "dx = L / nx\n",
    "bcL = 1.\n",
    "bcR = 0.\n",
    "\n",
    "peclet = 10.\n",
    "u  = 1.\n",
    "\n",
    "alfa1   = 10\n",
    "dt      = alfa1*dx\n",
    "\n",
    "tend = 3.5\n",
    "steps = int(tend/dt)\n",
    "pv_mod = np.arange(0,tend+dt,dt)"
   ]
  },
  {
   "cell_type": "code",
   "execution_count": 5,
   "metadata": {},
   "outputs": [
    {
     "data": {
      "text/plain": [
       "<function matplotlib.pyplot.tight_layout>"
      ]
     },
     "execution_count": 5,
     "metadata": {},
     "output_type": "execute_result"
    },
    {
     "data": {
      "image/png": "[encoded data removed]",
      "text/plain": [
       "<Figure size 864x432 with 2 Axes>"
      ]
     },
     "metadata": {},
     "output_type": "display_data"
    }
   ],
   "source": [
    "c_mod, cout_mod = ConvDiffFV(peclet,u,bcR,bcL,nx,dx,dt,steps)\n",
    "\n",
    "plt.figure(figsize=[12,6])\n",
    "plt.subplot(1,2,1)\n",
    "plt.plot(np.linspace(0,nx,nx),c_mod)\n",
    "plt.xlabel('grid block [-]')\n",
    "plt.ylabel('concentration [-]')\n",
    "plt.grid() \n",
    "plt.tight_layout\n",
    "plt.ylim([0,1.2])\n",
    "\n",
    "plt.subplot(1,2,2)\n",
    "plt.plot(pv_exp,c_exp,'o',markersize=10,label='experimental data')\n",
    "plt.plot(pv_mod,cout_mod,label='finite volumet solution')\n",
    "plt.xlabel('pore volume [-]')\n",
    "plt.ylabel('outlet concentration [-]')\n",
    "plt.ylim([0,1])\n",
    "plt.grid() \n",
    "plt.tight_layout"
   ]
  },
  {
   "cell_type": "code",
   "execution_count": 6,
   "metadata": {
    "collapsed": true
   },
   "outputs": [],
   "source": [
    "def misfit(x):\n",
    "    c_mod, cout_mod = ConvDiffFV(x,u,bcR,bcL,nx,dx,dt,steps)\n",
    "    c_est =  0 * np.ndarray(len(pv_exp))\n",
    "    r    = 0\n",
    "    for pv in pv_exp:\n",
    "        dif = abs(pv_mod-pv)\n",
    "        a= float(cout_mod[np.where(dif == dif.min())])\n",
    "        c_est[r] = a\n",
    "        r = r + 1\n",
    "    s = sum((c_exp-c_est)**2)\n",
    "    return s"
   ]
  },
  {
   "cell_type": "code",
   "execution_count": 7,
   "metadata": {},
   "outputs": [
    {
     "data": {
      "text/plain": [
       " active_mask: array([ 0.])\n",
       "        cost: 0.0031645979206763809\n",
       "         fun: array([ 0.07955624])\n",
       "        grad: array([ -4.21431858e-08])\n",
       "         jac: array([[ -5.29728203e-07]])\n",
       "     message: '`xtol` termination condition is satisfied.'\n",
       "        nfev: 23\n",
       "        njev: 11\n",
       "  optimality: 4.2143185813309374e-08\n",
       "      status: 3\n",
       "     success: True\n",
       "           x: array([ 125.16365241])"
      ]
     },
     "execution_count": 7,
     "metadata": {},
     "output_type": "execute_result"
    }
   ],
   "source": [
    "from scipy import stats, optimize\n",
    "es = optimize.least_squares(misfit, [10.])\n",
    "es"
   ]
  },
  {
   "cell_type": "code",
   "execution_count": 8,
   "metadata": {},
   "outputs": [
    {
     "data": {
      "text/plain": [
       "<function matplotlib.pyplot.tight_layout>"
      ]
     },
     "execution_count": 8,
     "metadata": {},
     "output_type": "execute_result"
    },
    {
     "data": {
      "image/png": "[encoded data removed]",
      "text/plain": [
       "<Figure size 432x288 with 1 Axes>"
      ]
     },
     "metadata": {},
     "output_type": "display_data"
    }
   ],
   "source": [
    "es.x\n",
    "c_mod, cout_mod = ConvDiffFV(es.x[0],u,bcR,bcL,nx,dx,dt,steps)\n",
    "plt.plot(pv_mod,cout_mod)\n",
    "plt.plot(pv_exp,c_exp,'o',markersize=10)\n",
    "\n",
    "plt.xlabel('pore volume [-]')\n",
    "plt.ylabel('outlet concentration [-]')\n",
    "plt.ylim([0,1])\n",
    "plt.grid() \n",
    "plt.tight_layout"
   ]
  },
  {
   "cell_type": "code",
   "execution_count": 10,
   "metadata": {},
   "outputs": [
    {
     "name": "stdout",
     "output_type": "stream",
     "text": [
      "125.163652407\n"
     ]
    }
   ],
   "source": [
    "print es.x[0]"
   ]
  },
  {
   "cell_type": "code",
   "execution_count": null,
   "metadata": {
    "collapsed": true
   },
   "outputs": [],
   "source": []
  }
 ],
 "metadata": {
  "kernelspec": {
   "display_name": "Python 2",
   "language": "python",
   "name": "python2"
  },
  "language_info": {
   "codemirror_mode": {
    "name": "ipython",
    "version": 2
   },
   "file_extension": ".py",
   "mimetype": "text/x-python",
   "name": "python",
   "nbconvert_exporter": "python",
   "pygments_lexer": "ipython2",
   "version": "2.7.14"
  }
 },
 "nbformat": 4,
 "nbformat_minor": 2
}

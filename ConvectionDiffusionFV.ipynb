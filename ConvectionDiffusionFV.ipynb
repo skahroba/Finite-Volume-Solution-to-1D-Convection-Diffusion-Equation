{
 "cells": [
  {
   "cell_type": "code",
   "execution_count": 1,
   "metadata": {
    "collapsed": true
   },
   "outputs": [],
   "source": [
    "import fipy\n",
    "from fipy import *\n",
    "\n",
    "import matplotlib as mpl\n",
    "import matplotlib.pyplot as plt\n",
    "import numpy as np\n",
    "\n",
    "from diffsolver import diffsolver\n",
    "######################################################################\n",
    "# Plot configurations\n",
    "# mpl.style.use('classic')\n",
    "mpl.rcParams['lines.linewidth'] = 1.0\n",
    "mpl.rcParams['lines.dashed_pattern'] = [6, 6]\n",
    "mpl.rcParams['lines.dashdot_pattern'] = [3, 5, 1, 5]\n",
    "mpl.rcParams['lines.dotted_pattern'] = [1, 3]\n",
    "mpl.rcParams['lines.scale_dashes'] = False\n",
    "\n",
    "mpl.rcParams['grid.color'] = 'k'\n",
    "mpl.rcParams['grid.linestyle'] = ':'\n",
    "mpl.rcParams['grid.linewidth'] = 0.5\n",
    "\n",
    "mpl.rcParams['axes.autolimit_mode'] = 'round_numbers'\n",
    "mpl.rcParams['axes.xmargin'] = 0\n",
    "mpl.rcParams['axes.ymargin'] = 0\n",
    "######################################################################\n",
    "%matplotlib inline"
   ]
  },
  {
   "cell_type": "code",
   "execution_count": 2,
   "metadata": {
    "collapsed": true
   },
   "outputs": [],
   "source": [
    "L = 1.\n",
    "nx = 1000\n",
    "dx = L / nx\n",
    "\n",
    "peclet = 142.\n",
    "D = 1/peclet \n",
    "convCoeff = (1,)\n",
    "\n",
    "tend = 3.5\n",
    "alfa1   = 10\n",
    "dt      = alfa1*dx\n",
    "steps = int(tend/dt)\n",
    "\n",
    "valueLeft = 1.\n",
    "valueRight = 0."
   ]
  },
  {
   "cell_type": "code",
   "execution_count": 3,
   "metadata": {
    "collapsed": true,
    "scrolled": false
   },
   "outputs": [],
   "source": [
    "# initial and boundary conditions\n",
    "mesh = Grid1D(nx=nx, dx=dx)\n",
    "phi = CellVariable(name=\"solution variable\", \n",
    "                   mesh=mesh,\n",
    "                   value=0.)\n",
    "\n",
    "phi.faceGrad.constrain(valueRight, where=mesh.facesRight)\n",
    "# phi.constrain(valueRight, where=mesh.facesRight)\n",
    "phi.constrain(valueLeft, where=mesh.facesLeft)\n",
    "\n",
    "x = mesh.cellCenters[1]\n",
    "\n",
    "cout = 0 * np.ndarray(steps+1)\n",
    "pv = np.arange(0,tend+dt,dt)"
   ]
  },
  {
   "cell_type": "code",
   "execution_count": 4,
   "metadata": {
    "collapsed": true
   },
   "outputs": [],
   "source": [
    "# differential equation\n",
    "eqI = (TransientTerm() - DiffusionTerm(coeff=D) + \n",
    "       ExponentialConvectionTerm(coeff=convCoeff) == 0)\n",
    "\n",
    "# solving the equation\n",
    "for step in range(steps):\n",
    "        eqI.solve(var=phi, dt=dt)\n",
    "        cout[step+1] = phi._value[-1]"
   ]
  },
  {
   "cell_type": "code",
   "execution_count": 5,
   "metadata": {},
   "outputs": [
    {
     "data": {
      "image/png": "[encoded data removed]",
      "text/plain": [
       "<Figure size 864x432 with 2 Axes>"
      ]
     },
     "metadata": {},
     "output_type": "display_data"
    }
   ],
   "source": [
    "# plot\n",
    "plt.figure(figsize=[12,6])\n",
    "plt.subplot(1,2,1)\n",
    "plt.plot(np.linspace(0,nx,nx),phi._value)\n",
    "plt.xlabel('grid block [-]')\n",
    "plt.ylabel('concentration [-]')\n",
    "plt.grid() \n",
    "plt.tight_layout\n",
    "plt.ylim([0,1.2])\n",
    "\n",
    "plt.subplot(1,2,2)\n",
    "plt.plot(pv,cout)\n",
    "plt.xlabel('pore volume [-]')\n",
    "plt.ylabel('outlet concentration [-]')\n",
    "plt.ylim([0,1])\n",
    "plt.grid() \n",
    "plt.tight_layout;"
   ]
  },
  {
   "cell_type": "code",
   "execution_count": 16,
   "metadata": {
    "collapsed": true
   },
   "outputs": [],
   "source": [
    "TSVViewer(vars=(phi, phi.grad)).plot(filename=\"myTSV.tsv\")"
   ]
  }
 ],
 "metadata": {
  "kernelspec": {
   "display_name": "Python 2",
   "language": "python",
   "name": "python2"
  },
  "language_info": {
   "codemirror_mode": {
    "name": "ipython",
    "version": 2
   },
   "file_extension": ".py",
   "mimetype": "text/x-python",
   "name": "python",
   "nbconvert_exporter": "python",
   "pygments_lexer": "ipython2",
   "version": "2.7.14"
  }
 },
 "nbformat": 4,
 "nbformat_minor": 2
}
